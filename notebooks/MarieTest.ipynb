{
 "cells": [
  {
   "cell_type": "code",
   "execution_count": 1,
   "metadata": {},
   "outputs": [],
   "source": [
    "import fiona\n",
    "import rasterio\n",
    "from rasterio import RasterioIOError\n",
    "import os"
   ]
  },
  {
   "cell_type": "code",
   "execution_count": 6,
   "metadata": {},
   "outputs": [],
   "source": [
    "shp_fn = \"/home/shares/scientist/sasap-biophys/HabitatMetrics/glaciers/Glaciers_RAP.shp\""
   ]
  },
  {
   "cell_type": "code",
   "execution_count": 7,
   "metadata": {},
   "outputs": [
    {
     "data": {
      "text/plain": [
       "<open Collection '/home/shares/scientist/sasap-biophys/HabitatMetrics/glaciers/Glaciers_RAP.shp:Glaciers_RAP', mode 'r' at 0x7f9e4774b2b0>"
      ]
     },
     "execution_count": 7,
     "metadata": {},
     "output_type": "execute_result"
    }
   ],
   "source": [
    "fiona.open(shp_fn)"
   ]
  },
  {
   "cell_type": "code",
   "execution_count": 8,
   "metadata": {},
   "outputs": [],
   "source": [
    "def get_extent_for_raster(file_path):\n",
    "    ds = rasterio.open(file_path)\n",
    "    # do stuff with ds (data source) to get extent\n",
    "    # then return extent\n",
    "    \n",
    "def get_extent_for_vector(file_path):\n",
    "    ds = fiona.open(file_path)\n",
    "    # do stuff with ds (data source) to get extent\n",
    "    # maybe like this: https://gis.stackexchange.com/questions/90553/fiona-get-each-feature-extent-bounds\n",
    "    # then return extent\n",
    "    \n",
    "#Bonus Points!\n",
    "def get_extent_for_csv(file_path, long_col_name=None, lat_col_name=None):\n",
    "    \"\"\"\n",
    "    potential example with geopandas: https://gist.github.com/nygeog/2731427a74ed66ca0e420eaa7bcd0d2b\n",
    "    \n",
    "    # outline\n",
    "    \n",
    "    1. figure out column names if they're not provided \n",
    "    2. convert to point geodataframe (geopandas)\n",
    "    \"\"\"\n",
    "    if long_col_name is None:\n",
    "        # do stuff to figure out the long_col_name\n",
    "        pass\n",
    "\n",
    "def get_extent_if_possible(file_path):\n",
    "    try:\n",
    "        extent = get_extent_for_vector(file_path)\n",
    "    except RasterioIOError:\n",
    "        extent = get_extent_for_raster(file_path)\n",
    "        \n",
    "    return extent"
   ]
  },
  {
   "cell_type": "code",
   "execution_count": 9,
   "metadata": {},
   "outputs": [],
   "source": [
    "get_extent_if_possible(shp_fn)"
   ]
  },
  {
   "cell_type": "code",
   "execution_count": null,
   "metadata": {},
   "outputs": [],
   "source": []
  }
 ],
 "metadata": {
  "kernelspec": {
   "display_name": "Python 3",
   "language": "python",
   "name": "python3"
  },
  "language_info": {
   "codemirror_mode": {
    "name": "ipython",
    "version": 3
   },
   "file_extension": ".py",
   "mimetype": "text/x-python",
   "name": "python",
   "nbconvert_exporter": "python",
   "pygments_lexer": "ipython3",
   "version": "3.5.2"
  }
 },
 "nbformat": 4,
 "nbformat_minor": 2
}
