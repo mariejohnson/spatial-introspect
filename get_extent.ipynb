{
 "cells": [
  {
   "cell_type": "code",
   "execution_count": 3,
   "metadata": {},
   "outputs": [],
   "source": [
    "import re\n",
    "import fiona\n",
    "import geopandas as gpd\n",
    "import pandas as pd\n",
    "from fiona import errors\n",
    "from pandas import errors\n",
    "from shapely.geometry import Point\n",
    "from bounds import RasterBounds, VectorBounds"
   ]
  },
  {
   "cell_type": "code",
   "execution_count": 4,
   "metadata": {},
   "outputs": [],
   "source": [
    "def get_extent_vector(shapefile):\n",
    "    \"\"\" Get geographic extent (WSEN) from shapefile\n",
    "\n",
    "    Parameters\n",
    "    ----------\n",
    "    shapefile : str\n",
    "        Filepath to a shapefile\n",
    "\n",
    "    Returns\n",
    "    -------\n",
    "    Bounding box of vector in geographic coordinates\n",
    "\n",
    "    \"\"\"\n",
    "    vb = VectorBounds(shapefile)\n",
    "    bounds = list((vb.west, vb.south, vb.east, vb.north))\n",
    "    return bounds"
   ]
  },
  {
   "cell_type": "code",
   "execution_count": 5,
   "metadata": {},
   "outputs": [],
   "source": [
    "def get_extent_raster(raster):\n",
    "    \"\"\" Get geographic extent (WSEN) from raster\n",
    "\n",
    "    Parameters\n",
    "    ----------\n",
    "    raster : str\n",
    "        Filepath to a raster\n",
    "\n",
    "    Returns\n",
    "    -------\n",
    "    Bounding box of raster in geographic coordinates\n",
    "\n",
    "    \"\"\"\n",
    "    rbnds = RasterBounds(raster)\n",
    "    bounds = list((rbnds.west, rbnds.south, rbnds.east, rbnds.north))\n",
    "\n",
    "    return bounds"
   ]
  },
  {
   "cell_type": "code",
   "execution_count": 6,
   "metadata": {},
   "outputs": [],
   "source": [
    "def get_extent_csv(csv):\n",
    "    \"\"\" Get geographic extent (WSEN) from CSV\n",
    "\n",
    "    Parameters\n",
    "    ----------\n",
    "    csv : str\n",
    "        Filepath to a csv\n",
    "\n",
    "    Returns\n",
    "    -------\n",
    "    Bounding box of csv if lat and lon exist in column names\n",
    "\n",
    "    \"\"\"\n",
    "    csv_df = pd.read_csv(csv)\n",
    "\n",
    "    class ExtentFailedCSV(Exception):\n",
    "        pass\n",
    "\n",
    "    def check_cols(csv_df, col_string):\n",
    "        results = []\n",
    "        pat = re.compile(col_string, flags=re.IGNORECASE)\n",
    "        for col_name in csv_df.columns:\n",
    "            if pat.match(col_name) is not None:\n",
    "                results.append(col_name)\n",
    "        if len(results) != 1:\n",
    "            raise ExtentFailedCSV\n",
    "        return results\n",
    "\n",
    "    def check_lat(csv_df):\n",
    "        return check_cols(csv_df, \"lat\")\n",
    "\n",
    "    def check_lon(csv_df):\n",
    "        return check_cols(csv_df, \"lon\")\n",
    "\n",
    "    try:\n",
    "        lat_name = check_lat(csv_df)\n",
    "        lon_name = check_lon(csv_df)\n",
    "    except ExtentFailedCSV:\n",
    "        raise ExtentFailedCSV('Latitude or longitude cannot be guessed.')\n",
    "\n",
    "    csv_df['geometry'] = csv_df.apply(lambda r: Point(r[lon_name], r[lat_name]), axis=1)\n",
    "    pnt_gdf = gpd.GeoDataFrame(csv_df)\n",
    "\n",
    "    return pnt_gdf.total_bounds.tolist()\n"
   ]
  },
  {
   "cell_type": "code",
   "execution_count": 7,
   "metadata": {},
   "outputs": [],
   "source": [
    "def get_extent(file_path):\n",
    "    \"\"\" Get geographic extent (WSEN) from a shapefile, raster or CSV\n",
    "\n",
    "    Parameters\n",
    "    ----------\n",
    "    vector, raster or csv : str\n",
    "        Filepath to vector, raster or csv\n",
    "\n",
    "    Returns\n",
    "    -------\n",
    "    Bounding box of vector, raster or csv\n",
    "    \"\"\"\n",
    "    try:\n",
    "        extent = get_extent_csv(file_path)\n",
    "    except pd.errors.ParserError:\n",
    "        try:\n",
    "            extent = get_extent_vector(file_path)\n",
    "        except fiona.errors.FionaValueError:\n",
    "            extent = get_extent_raster(file_path)\n",
    "    return extent\n"
   ]
  },
  {
   "cell_type": "code",
   "execution_count": 8,
   "metadata": {},
   "outputs": [],
   "source": [
    "# Sample files\n",
    "herd_shp_file = \"test_data/HerdSpatialDistribution/HerdSpatialDistribution.shp\"\n",
    "CA_raster = \"test_data/NE1_50M_SR_W_tenth_CA.tif\"\n",
    "csv_geo = \"https://raw.githubusercontent.com/mariejohnson/spatial_introspect/master/test_data/SitiosMuestreoPasto.csv\"\n",
    "csv_no_geo = \"https://raw.githubusercontent.com/mariejohnson/spatial_introspect/master/test_data/no_geo.csv\""
   ]
  },
  {
   "cell_type": "code",
   "execution_count": 9,
   "metadata": {},
   "outputs": [
    {
     "data": {
      "text/plain": [
       "[81.61236877710331, 72.59573070400164, 90.77138370103438, 73.27285311714067]"
      ]
     },
     "execution_count": 9,
     "metadata": {},
     "output_type": "execute_result"
    }
   ],
   "source": [
    "get_extent(herd_shp_file)"
   ]
  },
  {
   "cell_type": "code",
   "execution_count": 10,
   "metadata": {},
   "outputs": [
    {
     "data": {
      "text/plain": [
       "[-125.99999999999997, 31.0, -112.99999999999997, 43.0]"
      ]
     },
     "execution_count": 10,
     "metadata": {},
     "output_type": "execute_result"
    }
   ],
   "source": [
    "get_extent(CA_raster)"
   ]
  },
  {
   "cell_type": "code",
   "execution_count": 11,
   "metadata": {},
   "outputs": [
    {
     "data": {
      "text/plain": [
       "[-77.05520652, -10.45003279, -76.78861605, -10.15487673]"
      ]
     },
     "execution_count": 11,
     "metadata": {},
     "output_type": "execute_result"
    }
   ],
   "source": [
    "get_extent(csv_geo)"
   ]
  },
  {
   "cell_type": "code",
   "execution_count": 12,
   "metadata": {},
   "outputs": [
    {
     "ename": "ExtentFailedCSV",
     "evalue": "Latitude or longitude cannot be guessed.",
     "traceback": [
      "\u001b[0;31m---------------------------------------------------------------------------\u001b[0m",
      "\u001b[0;31mExtentFailedCSV\u001b[0m                           Traceback (most recent call last)",
      "\u001b[0;32m<ipython-input-6-8fb0e0212ead>\u001b[0m in \u001b[0;36mget_extent_csv\u001b[0;34m(csv)\u001b[0m\n\u001b[1;32m     35\u001b[0m     \u001b[0;32mtry\u001b[0m\u001b[0;34m:\u001b[0m\u001b[0;34m\u001b[0m\u001b[0m\n\u001b[0;32m---> 36\u001b[0;31m         \u001b[0mlat_name\u001b[0m \u001b[0;34m=\u001b[0m \u001b[0mcheck_lat\u001b[0m\u001b[0;34m(\u001b[0m\u001b[0mcsv_df\u001b[0m\u001b[0;34m)\u001b[0m\u001b[0;34m\u001b[0m\u001b[0m\n\u001b[0m\u001b[1;32m     37\u001b[0m         \u001b[0mlon_name\u001b[0m \u001b[0;34m=\u001b[0m \u001b[0mcheck_lon\u001b[0m\u001b[0;34m(\u001b[0m\u001b[0mcsv_df\u001b[0m\u001b[0;34m)\u001b[0m\u001b[0;34m\u001b[0m\u001b[0m\n",
      "\u001b[0;32m<ipython-input-6-8fb0e0212ead>\u001b[0m in \u001b[0;36mcheck_lat\u001b[0;34m(csv_df)\u001b[0m\n\u001b[1;32m     29\u001b[0m     \u001b[0;32mdef\u001b[0m \u001b[0mcheck_lat\u001b[0m\u001b[0;34m(\u001b[0m\u001b[0mcsv_df\u001b[0m\u001b[0;34m)\u001b[0m\u001b[0;34m:\u001b[0m\u001b[0;34m\u001b[0m\u001b[0m\n\u001b[0;32m---> 30\u001b[0;31m         \u001b[0;32mreturn\u001b[0m \u001b[0mcheck_cols\u001b[0m\u001b[0;34m(\u001b[0m\u001b[0mcsv_df\u001b[0m\u001b[0;34m,\u001b[0m \u001b[0;34m\"lat\"\u001b[0m\u001b[0;34m)\u001b[0m\u001b[0;34m\u001b[0m\u001b[0m\n\u001b[0m\u001b[1;32m     31\u001b[0m \u001b[0;34m\u001b[0m\u001b[0m\n",
      "\u001b[0;32m<ipython-input-6-8fb0e0212ead>\u001b[0m in \u001b[0;36mcheck_cols\u001b[0;34m(csv_df, col_string)\u001b[0m\n\u001b[1;32m     25\u001b[0m         \u001b[0;32mif\u001b[0m \u001b[0mlen\u001b[0m\u001b[0;34m(\u001b[0m\u001b[0mresults\u001b[0m\u001b[0;34m)\u001b[0m \u001b[0;34m!=\u001b[0m \u001b[0;36m1\u001b[0m\u001b[0;34m:\u001b[0m\u001b[0;34m\u001b[0m\u001b[0m\n\u001b[0;32m---> 26\u001b[0;31m             \u001b[0;32mraise\u001b[0m \u001b[0mExtentFailedCSV\u001b[0m\u001b[0;34m\u001b[0m\u001b[0m\n\u001b[0m\u001b[1;32m     27\u001b[0m         \u001b[0;32mreturn\u001b[0m \u001b[0mresults\u001b[0m\u001b[0;34m\u001b[0m\u001b[0m\n",
      "\u001b[0;31mExtentFailedCSV\u001b[0m: ",
      "\nDuring handling of the above exception, another exception occurred:\n",
      "\u001b[0;31mExtentFailedCSV\u001b[0m                           Traceback (most recent call last)",
      "\u001b[0;32m<ipython-input-12-7bc979777fc8>\u001b[0m in \u001b[0;36m<module>\u001b[0;34m\u001b[0m\n\u001b[0;32m----> 1\u001b[0;31m \u001b[0mget_extent\u001b[0m\u001b[0;34m(\u001b[0m\u001b[0mcsv_no_geo\u001b[0m\u001b[0;34m)\u001b[0m\u001b[0;34m\u001b[0m\u001b[0m\n\u001b[0m",
      "\u001b[0;32m<ipython-input-7-7e4754a8e131>\u001b[0m in \u001b[0;36mget_extent\u001b[0;34m(file_path)\u001b[0m\n\u001b[1;32m     12\u001b[0m     \"\"\"\n\u001b[1;32m     13\u001b[0m     \u001b[0;32mtry\u001b[0m\u001b[0;34m:\u001b[0m\u001b[0;34m\u001b[0m\u001b[0m\n\u001b[0;32m---> 14\u001b[0;31m         \u001b[0mextent\u001b[0m \u001b[0;34m=\u001b[0m \u001b[0mget_extent_csv\u001b[0m\u001b[0;34m(\u001b[0m\u001b[0mfile_path\u001b[0m\u001b[0;34m)\u001b[0m\u001b[0;34m\u001b[0m\u001b[0m\n\u001b[0m\u001b[1;32m     15\u001b[0m     \u001b[0;32mexcept\u001b[0m \u001b[0mpd\u001b[0m\u001b[0;34m.\u001b[0m\u001b[0merrors\u001b[0m\u001b[0;34m.\u001b[0m\u001b[0mParserError\u001b[0m\u001b[0;34m:\u001b[0m\u001b[0;34m\u001b[0m\u001b[0m\n\u001b[1;32m     16\u001b[0m         \u001b[0;32mtry\u001b[0m\u001b[0;34m:\u001b[0m\u001b[0;34m\u001b[0m\u001b[0m\n",
      "\u001b[0;32m<ipython-input-6-8fb0e0212ead>\u001b[0m in \u001b[0;36mget_extent_csv\u001b[0;34m(csv)\u001b[0m\n\u001b[1;32m     37\u001b[0m         \u001b[0mlon_name\u001b[0m \u001b[0;34m=\u001b[0m \u001b[0mcheck_lon\u001b[0m\u001b[0;34m(\u001b[0m\u001b[0mcsv_df\u001b[0m\u001b[0;34m)\u001b[0m\u001b[0;34m\u001b[0m\u001b[0m\n\u001b[1;32m     38\u001b[0m     \u001b[0;32mexcept\u001b[0m \u001b[0mExtentFailedCSV\u001b[0m\u001b[0;34m:\u001b[0m\u001b[0;34m\u001b[0m\u001b[0m\n\u001b[0;32m---> 39\u001b[0;31m         \u001b[0;32mraise\u001b[0m \u001b[0mExtentFailedCSV\u001b[0m\u001b[0;34m(\u001b[0m\u001b[0;34m'Latitude or longitude cannot be guessed.'\u001b[0m\u001b[0;34m)\u001b[0m\u001b[0;34m\u001b[0m\u001b[0m\n\u001b[0m\u001b[1;32m     40\u001b[0m \u001b[0;34m\u001b[0m\u001b[0m\n\u001b[1;32m     41\u001b[0m     \u001b[0mcsv_df\u001b[0m\u001b[0;34m[\u001b[0m\u001b[0;34m'geometry'\u001b[0m\u001b[0;34m]\u001b[0m \u001b[0;34m=\u001b[0m \u001b[0mcsv_df\u001b[0m\u001b[0;34m.\u001b[0m\u001b[0mapply\u001b[0m\u001b[0;34m(\u001b[0m\u001b[0;32mlambda\u001b[0m \u001b[0mr\u001b[0m\u001b[0;34m:\u001b[0m \u001b[0mPoint\u001b[0m\u001b[0;34m(\u001b[0m\u001b[0mr\u001b[0m\u001b[0;34m[\u001b[0m\u001b[0mlon_name\u001b[0m\u001b[0;34m]\u001b[0m\u001b[0;34m,\u001b[0m \u001b[0mr\u001b[0m\u001b[0;34m[\u001b[0m\u001b[0mlat_name\u001b[0m\u001b[0;34m]\u001b[0m\u001b[0;34m)\u001b[0m\u001b[0;34m,\u001b[0m \u001b[0maxis\u001b[0m\u001b[0;34m=\u001b[0m\u001b[0;36m1\u001b[0m\u001b[0;34m)\u001b[0m\u001b[0;34m\u001b[0m\u001b[0m\n",
      "\u001b[0;31mExtentFailedCSV\u001b[0m: Latitude or longitude cannot be guessed."
     ],
     "output_type": "error"
    }
   ],
   "source": [
    "get_extent(csv_no_geo)"
   ]
  },
  {
   "cell_type": "markdown",
   "metadata": {},
   "source": [
    "To install `bounds` (installing this way with the `!` may just do a temporary install):"
   ]
  },
  {
   "cell_type": "code",
   "execution_count": null,
   "metadata": {},
   "outputs": [],
   "source": [
    "!pip2 install --user git+https://github.com/dgketchum/bounds.git"
   ]
  },
  {
   "cell_type": "markdown",
   "metadata": {},
   "source": [
    "To do a regular install do this on the command line:\n",
    "\n",
    "`pip2 install --user git+https://github.com/dgketchum/bounds.git`\n",
    "\n",
    "or, to install for python 3, use `pip3`:\n",
    "\n",
    "`pip3 install --user git+https://github.com/dgketchum/bounds.git`"
   ]
  }
 ],
 "metadata": {
  "kernelspec": {
   "display_name": "Python 2",
   "language": "python",
   "name": "python2"
  },
  "language_info": {
   "codemirror_mode": {
    "name": "ipython",
    "version": 2
   },
   "file_extension": ".py",
   "mimetype": "text/x-python",
   "name": "python",
   "nbconvert_exporter": "python",
   "pygments_lexer": "ipython2",
   "version": "2.7.15"
  }
 },
 "nbformat": 4,
 "nbformat_minor": 2
}
