{
 "cells": [
  {
   "cell_type": "code",
   "execution_count": 1,
   "metadata": {},
   "outputs": [],
   "source": [
    "import re\n",
    "import fiona\n",
    "import geopandas as gpd\n",
    "import pandas as pd\n",
    "from fiona import errors\n",
    "from pandas import errors\n",
    "from shapely.geometry import Point\n",
    "from bounds import RasterBounds, VectorBounds"
   ]
  },
  {
   "cell_type": "markdown",
   "metadata": {},
   "source": [
    "It would be good to get all of your code into a single file that can be imported into the notebook. I would move this notebook into the top level directory. Then you can import your functions from `get_extent.py`. ...Though, you'll have to change your import statement from `bounds`.\n",
    "\n",
    "maybe like:\n",
    "`from bounds import *`"
   ]
  },
  {
   "cell_type": "code",
   "execution_count": 29,
   "metadata": {},
   "outputs": [
    {
     "ename": "ImportError",
     "evalue": "cannot import name VectorBounds",
     "traceback": [
      "\u001b[0;31m---------------------------------------------------------------------------\u001b[0m",
      "\u001b[0;31mImportError\u001b[0m                               Traceback (most recent call last)",
      "\u001b[0;32m<ipython-input-29-2a524f91ca5b>\u001b[0m in \u001b[0;36m<module>\u001b[0;34m()\u001b[0m\n\u001b[0;32m----> 1\u001b[0;31m \u001b[0;32mfrom\u001b[0m \u001b[0mget_extent\u001b[0m \u001b[0;32mimport\u001b[0m \u001b[0;34m*\u001b[0m\u001b[0;34m\u001b[0m\u001b[0m\n\u001b[0m",
      "\u001b[0;32m/Users/jkibele/Documents/Repositories/spatial_introspect/notebooks/get_extent.py\u001b[0m in \u001b[0;36m<module>\u001b[0;34m()\u001b[0m\n\u001b[1;32m      6\u001b[0m \u001b[0;32mfrom\u001b[0m \u001b[0mpandas\u001b[0m \u001b[0;32mimport\u001b[0m \u001b[0merrors\u001b[0m\u001b[0;34m\u001b[0m\u001b[0m\n\u001b[1;32m      7\u001b[0m \u001b[0;32mfrom\u001b[0m \u001b[0mshapely\u001b[0m\u001b[0;34m.\u001b[0m\u001b[0mgeometry\u001b[0m \u001b[0;32mimport\u001b[0m \u001b[0mPoint\u001b[0m\u001b[0;34m\u001b[0m\u001b[0m\n\u001b[0;32m----> 8\u001b[0;31m \u001b[0;32mfrom\u001b[0m \u001b[0mbounds\u001b[0m \u001b[0;32mimport\u001b[0m \u001b[0mRasterBounds\u001b[0m\u001b[0;34m,\u001b[0m \u001b[0mVectorBounds\u001b[0m\u001b[0;34m\u001b[0m\u001b[0m\n\u001b[0m\u001b[1;32m      9\u001b[0m \u001b[0;34m\u001b[0m\u001b[0m\n\u001b[1;32m     10\u001b[0m \u001b[0;34m\u001b[0m\u001b[0m\n",
      "\u001b[0;31mImportError\u001b[0m: cannot import name VectorBounds"
     ],
     "output_type": "error"
    }
   ],
   "source": [
    "from get_extent import *"
   ]
  },
  {
   "cell_type": "code",
   "execution_count": 3,
   "metadata": {},
   "outputs": [],
   "source": [
    "def get_extent_vector(shapefile):\n",
    "    \"\"\"\n",
    "\n",
    "    Parameters\n",
    "    ----------\n",
    "    shapefile : str\n",
    "        Filepath to a shapefile\n",
    "\n",
    "    Returns\n",
    "    -------\n",
    "    Bounding box of vector in geographic coordinates\n",
    "\n",
    "    \"\"\"\n",
    "    vb = VectorBounds(shapefile)\n",
    "    bounds = list((vb.west, vb.south, vb.east, vb.north))\n",
    "    return bounds"
   ]
  },
  {
   "cell_type": "code",
   "execution_count": 4,
   "metadata": {},
   "outputs": [],
   "source": [
    "\n",
    "def get_extent_raster(raster):\n",
    "    \"\"\"\n",
    "\n",
    "    Parameters\n",
    "    ----------\n",
    "    raster : str\n",
    "        Filepath to a raster\n",
    "\n",
    "    Returns\n",
    "    -------\n",
    "    Bounding box of raster in geographic coordinates\n",
    "\n",
    "    \"\"\"\n",
    "    rbnds = RasterBounds(raster)\n",
    "    bounds = list((rbnds.west, rbnds.south, rbnds.east, rbnds.north))\n",
    "\n",
    "    return bounds"
   ]
  },
  {
   "cell_type": "code",
   "execution_count": 5,
   "metadata": {},
   "outputs": [],
   "source": [
    "def get_extent_csv(csv):\n",
    "    \"\"\"\n",
    "\n",
    "    Parameters\n",
    "    ----------\n",
    "    csv : str\n",
    "        Filepath to a csv\n",
    "\n",
    "    Returns\n",
    "    -------\n",
    "    Bounding box of csv if lat and lon exist in column names\n",
    "\n",
    "    \"\"\"\n",
    "    csv_df = pd.read_csv(csv)\n",
    "\n",
    "    class MyException(Exception):\n",
    "        pass\n",
    "\n",
    "    def generic_check_for_cols(csv_df, col_string):\n",
    "        results = []\n",
    "        pat = re.compile(col_string, flags=re.IGNORECASE)\n",
    "        for col_name in csv_df.columns:\n",
    "            if pat.match(col_name) is not None:\n",
    "                results.append(col_name)\n",
    "        if len(results) != 1:\n",
    "            raise MyException\n",
    "        return results\n",
    "\n",
    "    def check_lat(csv_df):\n",
    "        return generic_check_for_cols(csv_df, \"lat\")\n",
    "\n",
    "    def check_lon(csv_df):\n",
    "        return generic_check_for_cols(csv_df, \"lon\")\n",
    "\n",
    "    try:\n",
    "        lat_name = check_lat(csv_df)\n",
    "        lon_name = check_lon(csv_df)\n",
    "    except MyException:\n",
    "        raise MyException('Latitude or longitude cannot be guessed.')\n",
    "\n",
    "    csv_df['geometry'] = csv_df.apply(lambda r: Point(r[lon_name], r[lat_name]), axis=1)\n",
    "    pnt_gdf = gpd.GeoDataFrame(csv_df)\n",
    "\n",
    "    return pnt_gdf.total_bounds.tolist()\n"
   ]
  },
  {
   "cell_type": "code",
   "execution_count": 6,
   "metadata": {},
   "outputs": [],
   "source": [
    "def get_extent(file_path):\n",
    "    \"\"\"\n",
    "\n",
    "    Parameters\n",
    "    ----------\n",
    "    vector, raster or csv : str\n",
    "        Filepath to vector, raster or csv\n",
    "\n",
    "    Returns\n",
    "    -------\n",
    "    Bounding box of vector, raster or csv\n",
    "    \"\"\"\n",
    "    try:\n",
    "        extent = get_extent_csv(file_path)\n",
    "    except pd.errors.ParserError:\n",
    "        try:\n",
    "            extent = get_extent_vector(file_path)\n",
    "        except fiona.errors.FionaValueError:\n",
    "            extent = get_extent_raster(file_path)\n",
    "    return extent\n"
   ]
  },
  {
   "cell_type": "code",
   "execution_count": 11,
   "metadata": {},
   "outputs": [],
   "source": [
    "herd_shp = \"https://github.com/mariejohnson/spatial_introspect/raw/master/test_data/HerdSpatialDistribution/HerdSpatialDistribution.shp\"\n",
    "# can't get the shapefile to download via github but it works locally\n",
    "herd_shp_local = \"../test_data/HerdSpatialDistribution/HerdSpatialDistribution.shp\"\n",
    "CA_raster = \"https://raw.github.com/mariejohnson/spatial_introspect/raw/master/test_data/NE1_50M_SR_W_tenth_CA.tif\"\n",
    "# same issue as above\n",
    "CA_raster_local = \"../test_data/NE1_50M_SR_W_tenth_CA.tif\"\n",
    "csv_no_geo = \"https://raw.githubusercontent.com/mariejohnson/spatial_introspect/master/test_data/no_geo.csv\"\n",
    "csv_geo = \"https://raw.githubusercontent.com/mariejohnson/spatial_introspect/master/test_data/SitiosMuestreoPasto.csv\""
   ]
  },
  {
   "cell_type": "code",
   "execution_count": 10,
   "metadata": {},
   "outputs": [
    {
     "data": {
      "text/plain": [
       "[81.61236877710331, 72.59573070400164, 90.77138370103438, 73.27285311714067]"
      ]
     },
     "execution_count": 10,
     "metadata": {},
     "output_type": "execute_result"
    }
   ],
   "source": [
    "get_extent(herd_shp_local)"
   ]
  },
  {
   "cell_type": "code",
   "execution_count": 12,
   "metadata": {},
   "outputs": [
    {
     "data": {
      "text/plain": [
       "[-125.99999999999997, 31.0, -112.99999999999997, 43.0]"
      ]
     },
     "execution_count": 12,
     "metadata": {},
     "output_type": "execute_result"
    }
   ],
   "source": [
    "get_extent(CA_raster_local)"
   ]
  },
  {
   "cell_type": "code",
   "execution_count": 13,
   "metadata": {},
   "outputs": [
    {
     "data": {
      "text/plain": [
       "[-77.05520652, -10.45003279, -76.78861605, -10.15487673]"
      ]
     },
     "execution_count": 13,
     "metadata": {},
     "output_type": "execute_result"
    }
   ],
   "source": [
    "get_extent(csv_geo)"
   ]
  },
  {
   "cell_type": "code",
   "execution_count": 14,
   "metadata": {},
   "outputs": [
    {
     "ename": "MyException",
     "evalue": "Latitude or longitude cannot be guessed.",
     "traceback": [
      "\u001b[0;31m---------------------------------------------------------------------------\u001b[0m",
      "\u001b[0;31mMyException\u001b[0m                               Traceback (most recent call last)",
      "\u001b[0;32m<ipython-input-14-7bc979777fc8>\u001b[0m in \u001b[0;36m<module>\u001b[0;34m()\u001b[0m\n\u001b[0;32m----> 1\u001b[0;31m \u001b[0mget_extent\u001b[0m\u001b[0;34m(\u001b[0m\u001b[0mcsv_no_geo\u001b[0m\u001b[0;34m)\u001b[0m\u001b[0;34m\u001b[0m\u001b[0m\n\u001b[0m",
      "\u001b[0;32m<ipython-input-6-629d653312ca>\u001b[0m in \u001b[0;36mget_extent\u001b[0;34m(file_path)\u001b[0m\n\u001b[1;32m     12\u001b[0m     \"\"\"\n\u001b[1;32m     13\u001b[0m     \u001b[0;32mtry\u001b[0m\u001b[0;34m:\u001b[0m\u001b[0;34m\u001b[0m\u001b[0m\n\u001b[0;32m---> 14\u001b[0;31m         \u001b[0mextent\u001b[0m \u001b[0;34m=\u001b[0m \u001b[0mget_extent_csv\u001b[0m\u001b[0;34m(\u001b[0m\u001b[0mfile_path\u001b[0m\u001b[0;34m)\u001b[0m\u001b[0;34m\u001b[0m\u001b[0m\n\u001b[0m\u001b[1;32m     15\u001b[0m     \u001b[0;32mexcept\u001b[0m \u001b[0mpd\u001b[0m\u001b[0;34m.\u001b[0m\u001b[0merrors\u001b[0m\u001b[0;34m.\u001b[0m\u001b[0mParserError\u001b[0m\u001b[0;34m:\u001b[0m\u001b[0;34m\u001b[0m\u001b[0m\n\u001b[1;32m     16\u001b[0m         \u001b[0;32mtry\u001b[0m\u001b[0;34m:\u001b[0m\u001b[0;34m\u001b[0m\u001b[0m\n",
      "\u001b[0;32m<ipython-input-5-87036819686a>\u001b[0m in \u001b[0;36mget_extent_csv\u001b[0;34m(csv)\u001b[0m\n\u001b[1;32m     37\u001b[0m         \u001b[0mlon_name\u001b[0m \u001b[0;34m=\u001b[0m \u001b[0mcheck_lon\u001b[0m\u001b[0;34m(\u001b[0m\u001b[0mcsv_df\u001b[0m\u001b[0;34m)\u001b[0m\u001b[0;34m\u001b[0m\u001b[0m\n\u001b[1;32m     38\u001b[0m     \u001b[0;32mexcept\u001b[0m \u001b[0mMyException\u001b[0m\u001b[0;34m:\u001b[0m\u001b[0;34m\u001b[0m\u001b[0m\n\u001b[0;32m---> 39\u001b[0;31m         \u001b[0;32mraise\u001b[0m \u001b[0mMyException\u001b[0m\u001b[0;34m(\u001b[0m\u001b[0;34m'Latitude or longitude cannot be guessed.'\u001b[0m\u001b[0;34m)\u001b[0m\u001b[0;34m\u001b[0m\u001b[0m\n\u001b[0m\u001b[1;32m     40\u001b[0m \u001b[0;34m\u001b[0m\u001b[0m\n\u001b[1;32m     41\u001b[0m     \u001b[0mcsv_df\u001b[0m\u001b[0;34m[\u001b[0m\u001b[0;34m'geometry'\u001b[0m\u001b[0;34m]\u001b[0m \u001b[0;34m=\u001b[0m \u001b[0mcsv_df\u001b[0m\u001b[0;34m.\u001b[0m\u001b[0mapply\u001b[0m\u001b[0;34m(\u001b[0m\u001b[0;32mlambda\u001b[0m \u001b[0mr\u001b[0m\u001b[0;34m:\u001b[0m \u001b[0mPoint\u001b[0m\u001b[0;34m(\u001b[0m\u001b[0mr\u001b[0m\u001b[0;34m[\u001b[0m\u001b[0mlon_name\u001b[0m\u001b[0;34m]\u001b[0m\u001b[0;34m,\u001b[0m \u001b[0mr\u001b[0m\u001b[0;34m[\u001b[0m\u001b[0mlat_name\u001b[0m\u001b[0;34m]\u001b[0m\u001b[0;34m)\u001b[0m\u001b[0;34m,\u001b[0m \u001b[0maxis\u001b[0m\u001b[0;34m=\u001b[0m\u001b[0;36m1\u001b[0m\u001b[0;34m)\u001b[0m\u001b[0;34m\u001b[0m\u001b[0m\n",
      "\u001b[0;31mMyException\u001b[0m: Latitude or longitude cannot be guessed."
     ],
     "output_type": "error"
    }
   ],
   "source": [
    "get_extent(csv_no_geo)"
   ]
  },
  {
   "cell_type": "markdown",
   "metadata": {},
   "source": [
    "To install `bounds` (installing this way with the `!` may just do a temporary install:"
   ]
  },
  {
   "cell_type": "code",
   "execution_count": 18,
   "metadata": {},
   "outputs": [
    {
     "name": "stdout",
     "output_type": "stream",
     "text": [
      "Collecting git+https://github.com/dgketchum/bounds.git\n",
      "  Cloning https://github.com/dgketchum/bounds.git to /private/var/folders/57/7c_cr6g56g13tmy0c9dqx1x00000gn/T/pip-req-build-5_BtMc\n",
      "Requirement already satisfied (use --upgrade to upgrade): bounds==0.0.4 from git+https://github.com/dgketchum/bounds.git in /Users/jkibele/Library/Python/2.7/lib/python/site-packages\n",
      "Requirement already satisfied: rasterio in /usr/local/lib/python2.7/site-packages (from bounds==0.0.4) (1.0.6)\n",
      "Requirement already satisfied: pyproj in /usr/local/lib/python2.7/site-packages (from bounds==0.0.4) (1.9.5.1)\n",
      "Requirement already satisfied: enum34 in /usr/local/lib/python2.7/site-packages (from rasterio->bounds==0.0.4) (1.1.6)\n",
      "Requirement already satisfied: cligj in /usr/local/lib/python2.7/site-packages (from rasterio->bounds==0.0.4) (0.4.0)\n",
      "Requirement already satisfied: numpy in /usr/local/lib/python2.7/site-packages (from rasterio->bounds==0.0.4) (1.15.2)\n",
      "Requirement already satisfied: affine in /usr/local/lib/python2.7/site-packages (from rasterio->bounds==0.0.4) (2.0.0.post1)\n",
      "Requirement already satisfied: click-plugins in /usr/local/lib/python2.7/site-packages (from rasterio->bounds==0.0.4) (1.0.3)\n",
      "Requirement already satisfied: attrs in /usr/local/lib/python2.7/site-packages (from rasterio->bounds==0.0.4) (18.2.0)\n",
      "Requirement already satisfied: snuggs>=1.4.1 in /usr/local/lib/python2.7/site-packages (from rasterio->bounds==0.0.4) (1.4.1)\n",
      "Requirement already satisfied: click>=4.0 in /usr/local/lib/python2.7/site-packages (from cligj->rasterio->bounds==0.0.4) (6.7)\n",
      "Requirement already satisfied: pyparsing in /usr/local/lib/python2.7/site-packages (from snuggs>=1.4.1->rasterio->bounds==0.0.4) (2.2.0)\n",
      "Building wheels for collected packages: bounds\n",
      "  Running setup.py bdist_wheel for bounds ... \u001b[?25ldone\n",
      "\u001b[?25h  Stored in directory: /private/var/folders/57/7c_cr6g56g13tmy0c9dqx1x00000gn/T/pip-ephem-wheel-cache-jMXfe3/wheels/cd/78/bc/365f786c0402f63e10e8ae64e4f539d15d6d8b019a95fab19b\n",
      "Successfully built bounds\n"
     ]
    }
   ],
   "source": [
    "!pip2 install --user git+https://github.com/dgketchum/bounds.git"
   ]
  },
  {
   "cell_type": "markdown",
   "metadata": {},
   "source": [
    "To do a regular install do this on the command line:\n",
    "\n",
    "`pip2 install --user git+https://github.com/dgketchum/bounds.git`\n",
    "\n",
    "or, to install for python 3, use `pip3`:\n",
    "\n",
    "`pip3 install --user git+https://github.com/dgketchum/bounds.git`"
   ]
  },
  {
   "cell_type": "code",
   "execution_count": null,
   "metadata": {},
   "outputs": [],
   "source": []
  }
 ],
 "metadata": {
  "kernelspec": {
   "display_name": "Python 2",
   "language": "python",
   "name": "python2"
  },
  "language_info": {
   "codemirror_mode": {
    "name": "ipython",
    "version": 2
   },
   "file_extension": ".py",
   "mimetype": "text/x-python",
   "name": "python",
   "nbconvert_exporter": "python",
   "pygments_lexer": "ipython2",
   "version": "2.7.15"
  }
 },
 "nbformat": 4,
 "nbformat_minor": 2
}
